{
 "cells": [
  {
   "cell_type": "markdown",
   "id": "7dbbbb16",
   "metadata": {},
   "source": [
    "# Random Sampling with Numpy"
   ]
  },
  {
   "cell_type": "code",
   "execution_count": 6,
   "id": "6c8627e4",
   "metadata": {},
   "outputs": [],
   "source": [
    "import numpy as np\n",
    "import random"
   ]
  },
  {
   "cell_type": "code",
   "execution_count": 7,
   "id": "b6123971",
   "metadata": {},
   "outputs": [
    {
     "data": {
      "text/plain": [
       "array([0.04803265, 0.49689756])"
      ]
     },
     "execution_count": 7,
     "metadata": {},
     "output_type": "execute_result"
    }
   ],
   "source": [
    "np.random.random(2)"
   ]
  },
  {
   "cell_type": "code",
   "execution_count": 9,
   "id": "bdc5138a",
   "metadata": {},
   "outputs": [
    {
     "data": {
      "text/plain": [
       "array([[0.8182715 , 0.22590589, 0.80540206],\n",
       "       [0.32449211, 0.84659083, 0.27397715],\n",
       "       [0.9596207 , 0.84471476, 0.3121451 ]])"
      ]
     },
     "execution_count": 9,
     "metadata": {},
     "output_type": "execute_result"
    }
   ],
   "source": [
    "# creating 2-d array using random function\n",
    "\n",
    "np.random.random((3,3))"
   ]
  },
  {
   "cell_type": "code",
   "execution_count": 11,
   "id": "1440a24a",
   "metadata": {},
   "outputs": [
    {
     "data": {
      "text/plain": [
       "2"
      ]
     },
     "execution_count": 11,
     "metadata": {},
     "output_type": "execute_result"
    }
   ],
   "source": [
    "\n",
    "np.random.randint(1,4)"
   ]
  },
  {
   "cell_type": "code",
   "execution_count": 12,
   "id": "310d6b23",
   "metadata": {},
   "outputs": [
    {
     "data": {
      "text/plain": [
       "array([[2, 3, 1, 2],\n",
       "       [2, 2, 1, 3],\n",
       "       [1, 1, 3, 3],\n",
       "       [3, 1, 3, 3]])"
      ]
     },
     "execution_count": 12,
     "metadata": {},
     "output_type": "execute_result"
    }
   ],
   "source": [
    "# creating 2-d array using random function of int type\n",
    "\n",
    "np.random.randint(1,4, (4,4))"
   ]
  },
  {
   "cell_type": "code",
   "execution_count": 17,
   "id": "413d48f8",
   "metadata": {},
   "outputs": [
    {
     "data": {
      "text/plain": [
       "array([[[3, 1, 1, 1],\n",
       "        [3, 1, 2, 2],\n",
       "        [1, 1, 1, 1],\n",
       "        [3, 1, 1, 1]],\n",
       "\n",
       "       [[1, 2, 1, 1],\n",
       "        [2, 2, 3, 2],\n",
       "        [3, 2, 1, 1],\n",
       "        [1, 2, 2, 3]]])"
      ]
     },
     "execution_count": 17,
     "metadata": {},
     "output_type": "execute_result"
    }
   ],
   "source": [
    "# creating 3-d array using random function of int type\n",
    "\n",
    "np.random.randint(1,4, (2,4,4))"
   ]
  },
  {
   "cell_type": "code",
   "execution_count": 18,
   "id": "1d776cd0",
   "metadata": {},
   "outputs": [
    {
     "data": {
      "text/plain": [
       "array([[[2, 2, 1, 1],\n",
       "        [2, 1, 2, 2],\n",
       "        [1, 2, 2, 3],\n",
       "        [1, 2, 1, 3]],\n",
       "\n",
       "       [[1, 3, 1, 1],\n",
       "        [1, 3, 1, 3],\n",
       "        [3, 2, 1, 1],\n",
       "        [3, 2, 3, 2]]])"
      ]
     },
     "execution_count": 18,
     "metadata": {},
     "output_type": "execute_result"
    }
   ],
   "source": [
    "# creating 3-d array using random function of int type with non-changeble values\n",
    "# seed function has (2**32 -1) patterns\n",
    "\n",
    "np.random.seed(10)\n",
    "np.random.randint(1,4, (2,4,4))"
   ]
  },
  {
   "cell_type": "code",
   "execution_count": 19,
   "id": "638efd8c",
   "metadata": {},
   "outputs": [
    {
     "data": {
      "text/plain": [
       "array([0.13145815, 0.41366737, 0.77872881])"
      ]
     },
     "execution_count": 19,
     "metadata": {},
     "output_type": "execute_result"
    }
   ],
   "source": [
    "# the output values will be in zeros only\n",
    "np.random.rand(3)"
   ]
  },
  {
   "cell_type": "code",
   "execution_count": 20,
   "id": "6687b53a",
   "metadata": {},
   "outputs": [
    {
     "data": {
      "text/plain": [
       "array([[0.58390137, 0.18263144, 0.82608225],\n",
       "       [0.10540183, 0.28357668, 0.06556327],\n",
       "       [0.05644419, 0.76545582, 0.01178803]])"
      ]
     },
     "execution_count": 20,
     "metadata": {},
     "output_type": "execute_result"
    }
   ],
   "source": [
    "np.random.rand(3,3)"
   ]
  },
  {
   "cell_type": "code",
   "execution_count": 21,
   "id": "2bc7758d",
   "metadata": {},
   "outputs": [
    {
     "data": {
      "text/plain": [
       "array([[-1.58494101,  1.05535316, -1.92657911],\n",
       "       [ 0.69858388, -0.74620143, -0.15662666],\n",
       "       [-0.19363594,  1.13912535,  0.36221796]])"
      ]
     },
     "execution_count": 21,
     "metadata": {},
     "output_type": "execute_result"
    }
   ],
   "source": [
    "# negative and positive values used for standard and normal distribution\n",
    "np.random.randn(3,3)"
   ]
  },
  {
   "cell_type": "code",
   "execution_count": 24,
   "id": "dd794b9d",
   "metadata": {},
   "outputs": [
    {
     "name": "stdout",
     "output_type": "stream",
     "text": [
      "2\n",
      "3\n",
      "3\n",
      "4\n",
      "1\n",
      "1\n",
      "1\n",
      "1\n",
      "3\n",
      "3\n"
     ]
    }
   ],
   "source": [
    "x = [1,2,3,4]\n",
    "for i in range(10):\n",
    "    print(np.random.choice(x))"
   ]
  },
  {
   "cell_type": "code",
   "execution_count": 25,
   "id": "672e42df",
   "metadata": {},
   "outputs": [
    {
     "data": {
      "text/plain": [
       "array([1, 3, 4, 2])"
      ]
     },
     "execution_count": 25,
     "metadata": {},
     "output_type": "execute_result"
    }
   ],
   "source": [
    "np.random.permutation(x)"
   ]
  },
  {
   "cell_type": "code",
   "execution_count": 26,
   "id": "ee951c96",
   "metadata": {},
   "outputs": [
    {
     "data": {
      "text/plain": [
       "array([2, 3, 4, 1])"
      ]
     },
     "execution_count": 26,
     "metadata": {},
     "output_type": "execute_result"
    }
   ],
   "source": [
    "np.random.permutation(x)"
   ]
  }
 ],
 "metadata": {
  "kernelspec": {
   "display_name": "Python 3",
   "language": "python",
   "name": "python3"
  },
  "language_info": {
   "codemirror_mode": {
    "name": "ipython",
    "version": 3
   },
   "file_extension": ".py",
   "mimetype": "text/x-python",
   "name": "python",
   "nbconvert_exporter": "python",
   "pygments_lexer": "ipython3",
   "version": "3.8.8"
  }
 },
 "nbformat": 4,
 "nbformat_minor": 5
}
