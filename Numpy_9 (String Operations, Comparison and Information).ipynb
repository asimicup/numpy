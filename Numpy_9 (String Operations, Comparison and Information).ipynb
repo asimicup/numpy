{
 "cells": [
  {
   "cell_type": "code",
   "execution_count": 3,
   "id": "b910977c",
   "metadata": {},
   "outputs": [],
   "source": [
    "import numpy as np"
   ]
  },
  {
   "cell_type": "code",
   "execution_count": 4,
   "id": "e56763a9",
   "metadata": {},
   "outputs": [],
   "source": [
    "str1 = \"Muhammad Asim\"\n",
    "str2 = \"is a student\""
   ]
  },
  {
   "cell_type": "code",
   "execution_count": 5,
   "id": "5fb94f1a",
   "metadata": {},
   "outputs": [
    {
     "data": {
      "text/plain": [
       "array('Muhammad Asimis a student', dtype='<U25')"
      ]
     },
     "execution_count": 5,
     "metadata": {},
     "output_type": "execute_result"
    }
   ],
   "source": [
    "np.char.add(str1, str2)"
   ]
  },
  {
   "cell_type": "code",
   "execution_count": 6,
   "id": "e07bcf4b",
   "metadata": {},
   "outputs": [
    {
     "data": {
      "text/plain": [
       "array('muhammad asim', dtype='<U13')"
      ]
     },
     "execution_count": 6,
     "metadata": {},
     "output_type": "execute_result"
    }
   ],
   "source": [
    "np.char.lower(str1)"
   ]
  },
  {
   "cell_type": "code",
   "execution_count": 7,
   "id": "4d13a973",
   "metadata": {},
   "outputs": [
    {
     "data": {
      "text/plain": [
       "array('IS A STUDENT', dtype='<U12')"
      ]
     },
     "execution_count": 7,
     "metadata": {},
     "output_type": "execute_result"
    }
   ],
   "source": [
    "np.char.upper(str2)"
   ]
  },
  {
   "cell_type": "code",
   "execution_count": 12,
   "id": "b70933ee",
   "metadata": {},
   "outputs": [
    {
     "data": {
      "text/plain": [
       "array('*************Muhammad Asim**************', dtype='<U40')"
      ]
     },
     "execution_count": 12,
     "metadata": {},
     "output_type": "execute_result"
    }
   ],
   "source": [
    "np.char.center(str1, 40, fillchar= '*')"
   ]
  },
  {
   "cell_type": "code",
   "execution_count": 13,
   "id": "9187900f",
   "metadata": {},
   "outputs": [
    {
     "data": {
      "text/plain": [
       "array(list(['is', 'a', 'student']), dtype=object)"
      ]
     },
     "execution_count": 13,
     "metadata": {},
     "output_type": "execute_result"
    }
   ],
   "source": [
    "np.char.split(str2)"
   ]
  },
  {
   "cell_type": "code",
   "execution_count": 14,
   "id": "0187c3a2",
   "metadata": {},
   "outputs": [
    {
     "data": {
      "text/plain": [
       "array(list(['Hello', 'Muhammad']), dtype=object)"
      ]
     },
     "execution_count": 14,
     "metadata": {},
     "output_type": "execute_result"
    }
   ],
   "source": [
    "np.char.splitlines(\"Hello\\nMuhammad\")"
   ]
  },
  {
   "cell_type": "code",
   "execution_count": 18,
   "id": "6cd3ccf3",
   "metadata": {},
   "outputs": [],
   "source": [
    "str3 = 'dmy'\n",
    "str4 = 'dmy'"
   ]
  },
  {
   "cell_type": "code",
   "execution_count": 20,
   "id": "01348611",
   "metadata": {},
   "outputs": [
    {
     "data": {
      "text/plain": [
       "array(['d:m:y', 'd/m/y'], dtype='<U5')"
      ]
     },
     "execution_count": 20,
     "metadata": {},
     "output_type": "execute_result"
    }
   ],
   "source": [
    "np.char.join([\":\", \"/\"], [str3, str4])"
   ]
  },
  {
   "cell_type": "code",
   "execution_count": 21,
   "id": "0f3e8105",
   "metadata": {},
   "outputs": [
    {
     "data": {
      "text/plain": [
       "array('Artificial Intelligence', dtype='<U23')"
      ]
     },
     "execution_count": 21,
     "metadata": {},
     "output_type": "execute_result"
    }
   ],
   "source": [
    "str6 = \"AI\"\n",
    "np.char.replace(str6, \"AI\", \"Artificial Intelligence\")"
   ]
  },
  {
   "cell_type": "code",
   "execution_count": 22,
   "id": "b535fed1",
   "metadata": {},
   "outputs": [
    {
     "data": {
      "text/plain": [
       "array(True)"
      ]
     },
     "execution_count": 22,
     "metadata": {},
     "output_type": "execute_result"
    }
   ],
   "source": [
    "np.char.equal(str3, str4)"
   ]
  },
  {
   "cell_type": "code",
   "execution_count": 23,
   "id": "d73319a0",
   "metadata": {},
   "outputs": [
    {
     "data": {
      "text/plain": [
       "array(2)"
      ]
     },
     "execution_count": 23,
     "metadata": {},
     "output_type": "execute_result"
    }
   ],
   "source": [
    "np.char.count(str1, 'a')"
   ]
  },
  {
   "cell_type": "code",
   "execution_count": 25,
   "id": "6f88760f",
   "metadata": {},
   "outputs": [
    {
     "data": {
      "text/plain": [
       "array(3)"
      ]
     },
     "execution_count": 25,
     "metadata": {},
     "output_type": "execute_result"
    }
   ],
   "source": [
    "np.char.find(str1, 'a')"
   ]
  },
  {
   "cell_type": "code",
   "execution_count": null,
   "id": "89cd4b7e",
   "metadata": {},
   "outputs": [],
   "source": []
  }
 ],
 "metadata": {
  "kernelspec": {
   "display_name": "Python 3",
   "language": "python",
   "name": "python3"
  },
  "language_info": {
   "codemirror_mode": {
    "name": "ipython",
    "version": 3
   },
   "file_extension": ".py",
   "mimetype": "text/x-python",
   "name": "python",
   "nbconvert_exporter": "python",
   "pygments_lexer": "ipython3",
   "version": "3.8.8"
  }
 },
 "nbformat": 4,
 "nbformat_minor": 5
}
